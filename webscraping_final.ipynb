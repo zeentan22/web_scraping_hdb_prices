{
 "cells": [
  {
   "cell_type": "code",
   "execution_count": null,
   "metadata": {},
   "outputs": [],
   "source": [
    "from bs4 import BeautifulSoup\n",
    "import requests,time\n",
    "import pandas as pd\n",
    "\n"
   ]
  },
  {
   "cell_type": "markdown",
   "metadata": {},
   "source": [
    "Run below code to scrape data from website"
   ]
  },
  {
   "cell_type": "code",
   "execution_count": null,
   "metadata": {},
   "outputs": [],
   "source": [
    "base_url = \"https://www.stproperty.sg\"\n",
    "url = \"https://www.stproperty.sg/singapore-property-listings/hdb-for-sale\"\n",
    "result = requests.get(url)\n",
    "doc = BeautifulSoup(result.text, \"html.parser\")"
   ]
  },
  {
   "cell_type": "code",
   "execution_count": null,
   "metadata": {},
   "outputs": [],
   "source": [
    "last_page = int(doc.find_all(class_ = \"hidden-xs\")[-1].text.strip())"
   ]
  },
  {
   "cell_type": "code",
   "execution_count": null,
   "metadata": {},
   "outputs": [],
   "source": [
    "def find_all_hdb_in_page(doc):\n",
    "    tags = doc.find_all(class_ = \"listingContainer\")\n",
    "    detailed_urls = [];\n",
    "    for tag in tags:\n",
    "        url = tag.find(class_ = \"listingDetailsDivLink\")\n",
    "        url = url.attrs['href']\n",
    "        detailed_urls.append(base_url + url)\n",
    "    return detailed_urls\n"
   ]
  },
  {
   "cell_type": "code",
   "execution_count": null,
   "metadata": {},
   "outputs": [],
   "source": [
    "def format_price(price):\n",
    "    price = price.text.strip()\n",
    "    price = price.replace(\",\", \"\")\n",
    "    return int(price)"
   ]
  },
  {
   "cell_type": "code",
   "execution_count": null,
   "metadata": {},
   "outputs": [],
   "source": [
    "def get_description(url): \n",
    "    result = requests.get(url)\n",
    "    doc = BeautifulSoup(result.text, \"html.parser\")\n",
    "    try:\n",
    "        town = doc.find(text = \"HDB Town\")\n",
    "        town = town.parent.find_next_sibling().text\n",
    "    except Exception:\n",
    "        town = None;\n",
    "    price = doc.find(class_ = \"listing-price\")\n",
    "    price =  format_price(price.find('span', {\"itemprop\":\"price\"}))\n",
    "    size = doc.find(text = \"Size\")\n",
    "    size = size.parent.find_next_sibling().find(\"span\", {\"itemprop\":\"value\"}).text\n",
    "    size = int(size.split()[0].replace(\",\",\"\"))\n",
    "    try: \n",
    "        bedrooms = doc.find(text= 'Bedrooms')\n",
    "        bedrooms = int(bedrooms.parent.find_next_sibling().text)\n",
    "    except ValueError:\n",
    "        bedrooms = 0\n",
    "        print(town)\n",
    "    except AttributeError:\n",
    "        bedrooms = 0\n",
    "    # if no bathrooms on website, assign bathrooms to be one\n",
    "    try:\n",
    "        bathrooms = doc.find(text = \"Bathrooms\")\n",
    "        bathrooms = int(bathrooms.parent.find_next_sibling().text)\n",
    "    except AttributeError:\n",
    "        bathrooms = 0\n",
    "    except ValueError:\n",
    "        bathrooms = 0\n",
    "    details = {\"town\" : town, \"price\": price, \"size\": size , \"bedrooms\":bedrooms, 'bathrooms':bathrooms}\n",
    "    return details"
   ]
  },
  {
   "cell_type": "code",
   "execution_count": null,
   "metadata": {},
   "outputs": [],
   "source": [
    "data = []"
   ]
  },
  {
   "cell_type": "code",
   "execution_count": null,
   "metadata": {},
   "outputs": [],
   "source": [
    "i = 1;\n",
    "for i in range(0, 121):\n",
    "    next_page_url = f\"/?page={i}\"\n",
    "    updated_url = url + next_page_url\n",
    "    print(updated_url)\n",
    "    result = requests.get(updated_url);\n",
    "    doc = BeautifulSoup(result.text, \"html.parser\")\n",
    "    detailed_url = find_all_hdb_in_page(doc)\n",
    "    print(len(detailed_url))\n",
    "    for u in detailed_url:\n",
    "        time.sleep(1)\n",
    "        data.append(get_description(u))\n",
    "    \n",
    "\n"
   ]
  },
  {
   "cell_type": "code",
   "execution_count": null,
   "metadata": {},
   "outputs": [],
   "source": [
    "df = pd.DataFrame(data)"
   ]
  },
  {
   "cell_type": "code",
   "execution_count": null,
   "metadata": {},
   "outputs": [],
   "source": [
    "df.to_csv(\"hdb_details.csv\", index=False)"
   ]
  }
 ],
 "metadata": {
  "kernelspec": {
   "display_name": "Python 3.10.5 64-bit",
   "language": "python",
   "name": "python3"
  },
  "language_info": {
   "codemirror_mode": {
    "name": "ipython",
    "version": 3
   },
   "file_extension": ".py",
   "mimetype": "text/x-python",
   "name": "python",
   "nbconvert_exporter": "python",
   "pygments_lexer": "ipython3",
   "version": "3.10.5"
  },
  "orig_nbformat": 4,
  "vscode": {
   "interpreter": {
    "hash": "aee8b7b246df8f9039afb4144a1f6fd8d2ca17a180786b69acc140d282b71a49"
   }
  }
 },
 "nbformat": 4,
 "nbformat_minor": 2
}
