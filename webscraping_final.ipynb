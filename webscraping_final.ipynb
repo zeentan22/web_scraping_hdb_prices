{
 "cells": [
  {
   "cell_type": "code",
   "execution_count": 1,
   "metadata": {},
   "outputs": [],
   "source": [
    "from bs4 import BeautifulSoup\n",
    "import requests,time\n",
    "import pandas as pd\n",
    "\n"
   ]
  },
  {
   "cell_type": "code",
   "execution_count": 29,
   "metadata": {},
   "outputs": [],
   "source": [
    "base_url = \"https://www.stproperty.sg\"\n",
    "url = \"https://www.stproperty.sg/singapore-property-listings/hdb-for-sale\"\n",
    "result = requests.get(url)\n",
    "doc = BeautifulSoup(result.text, \"html.parser\")"
   ]
  },
  {
   "cell_type": "code",
   "execution_count": 11,
   "metadata": {},
   "outputs": [],
   "source": [
    "last_page = int(doc.find_all(class_ = \"hidden-xs\")[-1].text.strip())"
   ]
  },
  {
   "cell_type": "code",
   "execution_count": 3,
   "metadata": {},
   "outputs": [],
   "source": [
    "def find_all_hdb_in_page(doc):\n",
    "    tags = doc.find_all(class_ = \"listingContainer\")\n",
    "    detailed_urls = [];\n",
    "    for tag in tags:\n",
    "        url = tag.find(class_ = \"listingDetailsDivLink\")\n",
    "        url = url.attrs['href']\n",
    "        detailed_urls.append(base_url + url)\n",
    "    return detailed_urls\n"
   ]
  },
  {
   "cell_type": "code",
   "execution_count": 4,
   "metadata": {},
   "outputs": [],
   "source": [
    "def format_price(price):\n",
    "    price = price.text.strip()\n",
    "    price = price.replace(\",\", \"\")\n",
    "    return int(price)"
   ]
  },
  {
   "cell_type": "code",
   "execution_count": 44,
   "metadata": {},
   "outputs": [],
   "source": [
    "def get_description(url): \n",
    "    result = requests.get(url)\n",
    "    doc = BeautifulSoup(result.text, \"html.parser\")\n",
    "    try:\n",
    "        town = doc.find(text = \"HDB Town\")\n",
    "        town = town.parent.find_next_sibling().text\n",
    "    except Exception:\n",
    "        town = None;\n",
    "    price = doc.find(class_ = \"listing-price\")\n",
    "    price =  format_price(price.find('span', {\"itemprop\":\"price\"}))\n",
    "    size = doc.find(text = \"Size\")\n",
    "    size = size.parent.find_next_sibling().find(\"span\", {\"itemprop\":\"value\"}).text\n",
    "    size = int(size.split()[0].replace(\",\",\"\"))\n",
    "    try: \n",
    "        bedrooms = doc.find(text= 'Bedrooms')\n",
    "        bedrooms = int(bedrooms.parent.find_next_sibling().text)\n",
    "    except ValueError:\n",
    "        bedrooms = 0\n",
    "        print(town)\n",
    "    except AttributeError:\n",
    "        bedrooms = 0\n",
    "    # if no bathrooms on website, assign bathrooms to be one\n",
    "    try:\n",
    "        bathrooms = doc.find(text = \"Bathrooms\")\n",
    "        bathrooms = int(bathrooms.parent.find_next_sibling().text)\n",
    "    except AttributeError:\n",
    "        bathrooms = 0\n",
    "    except ValueError:\n",
    "        bathrooms = 0\n",
    "    details = {\"town\" : town, \"price\": price, \"size\": size , \"bedrooms\":bedrooms, 'bathrooms':bathrooms}\n",
    "    return details"
   ]
  },
  {
   "cell_type": "code",
   "execution_count": null,
   "metadata": {},
   "outputs": [],
   "source": [
    "data = []"
   ]
  },
  {
   "cell_type": "code",
   "execution_count": 54,
   "metadata": {},
   "outputs": [
    {
     "name": "stdout",
     "output_type": "stream",
     "text": [
      "https://www.stproperty.sg/singapore-property-listings/hdb-for-sale/?page=101\n",
      "20\n",
      "https://www.stproperty.sg/singapore-property-listings/hdb-for-sale/?page=102\n",
      "20\n",
      "https://www.stproperty.sg/singapore-property-listings/hdb-for-sale/?page=103\n",
      "20\n",
      "https://www.stproperty.sg/singapore-property-listings/hdb-for-sale/?page=104\n",
      "20\n",
      "https://www.stproperty.sg/singapore-property-listings/hdb-for-sale/?page=105\n",
      "20\n",
      "https://www.stproperty.sg/singapore-property-listings/hdb-for-sale/?page=106\n",
      "20\n",
      "https://www.stproperty.sg/singapore-property-listings/hdb-for-sale/?page=107\n",
      "20\n",
      "https://www.stproperty.sg/singapore-property-listings/hdb-for-sale/?page=108\n",
      "20\n",
      "https://www.stproperty.sg/singapore-property-listings/hdb-for-sale/?page=109\n",
      "20\n",
      "https://www.stproperty.sg/singapore-property-listings/hdb-for-sale/?page=110\n",
      "20\n",
      "https://www.stproperty.sg/singapore-property-listings/hdb-for-sale/?page=111\n",
      "20\n",
      "https://www.stproperty.sg/singapore-property-listings/hdb-for-sale/?page=112\n",
      "20\n",
      "https://www.stproperty.sg/singapore-property-listings/hdb-for-sale/?page=113\n",
      "20\n",
      "https://www.stproperty.sg/singapore-property-listings/hdb-for-sale/?page=114\n",
      "20\n",
      "https://www.stproperty.sg/singapore-property-listings/hdb-for-sale/?page=115\n",
      "20\n",
      "https://www.stproperty.sg/singapore-property-listings/hdb-for-sale/?page=116\n",
      "20\n",
      "Woodlands\n",
      "https://www.stproperty.sg/singapore-property-listings/hdb-for-sale/?page=117\n",
      "20\n",
      "https://www.stproperty.sg/singapore-property-listings/hdb-for-sale/?page=118\n",
      "20\n",
      "https://www.stproperty.sg/singapore-property-listings/hdb-for-sale/?page=119\n",
      "20\n",
      "https://www.stproperty.sg/singapore-property-listings/hdb-for-sale/?page=120\n",
      "20\n"
     ]
    }
   ],
   "source": [
    "i = 1;\n",
    "for i in range(101, 121):\n",
    "    next_page_url = f\"/?page={i}\"\n",
    "    updated_url = url + next_page_url\n",
    "    print(updated_url)\n",
    "    result = requests.get(updated_url);\n",
    "    doc = BeautifulSoup(result.text, \"html.parser\")\n",
    "    detailed_url = find_all_hdb_in_page(doc)\n",
    "    print(len(detailed_url))\n",
    "    for u in detailed_url:\n",
    "        time.sleep(1)\n",
    "        data.append(get_description(u))\n",
    "    \n",
    "\n"
   ]
  },
  {
   "cell_type": "code",
   "execution_count": null,
   "metadata": {},
   "outputs": [],
   "source": []
  },
  {
   "cell_type": "code",
   "execution_count": 55,
   "metadata": {},
   "outputs": [
    {
     "data": {
      "text/plain": [
       "2235"
      ]
     },
     "execution_count": 55,
     "metadata": {},
     "output_type": "execute_result"
    }
   ],
   "source": [
    "len(data)\n",
    "# data"
   ]
  },
  {
   "cell_type": "code",
   "execution_count": 57,
   "metadata": {},
   "outputs": [],
   "source": [
    "df = pd.DataFrame(data)"
   ]
  },
  {
   "cell_type": "code",
   "execution_count": 61,
   "metadata": {},
   "outputs": [],
   "source": [
    "df.to_csv(\"hdb_details.csv\", index=False)"
   ]
  },
  {
   "cell_type": "code",
   "execution_count": 60,
   "metadata": {},
   "outputs": [
    {
     "data": {
      "text/html": [
       "<div>\n",
       "<style scoped>\n",
       "    .dataframe tbody tr th:only-of-type {\n",
       "        vertical-align: middle;\n",
       "    }\n",
       "\n",
       "    .dataframe tbody tr th {\n",
       "        vertical-align: top;\n",
       "    }\n",
       "\n",
       "    .dataframe thead th {\n",
       "        text-align: right;\n",
       "    }\n",
       "</style>\n",
       "<table border=\"1\" class=\"dataframe\">\n",
       "  <thead>\n",
       "    <tr style=\"text-align: right;\">\n",
       "      <th></th>\n",
       "      <th>town</th>\n",
       "      <th>price</th>\n",
       "      <th>size</th>\n",
       "      <th>bedrooms</th>\n",
       "      <th>bathrooms</th>\n",
       "    </tr>\n",
       "  </thead>\n",
       "  <tbody>\n",
       "    <tr>\n",
       "      <th>0</th>\n",
       "      <td>Woodlands</td>\n",
       "      <td>488000</td>\n",
       "      <td>101</td>\n",
       "      <td>3</td>\n",
       "      <td>2</td>\n",
       "    </tr>\n",
       "    <tr>\n",
       "      <th>1</th>\n",
       "      <td>Queenstown</td>\n",
       "      <td>468000</td>\n",
       "      <td>65</td>\n",
       "      <td>2</td>\n",
       "      <td>2</td>\n",
       "    </tr>\n",
       "    <tr>\n",
       "      <th>2</th>\n",
       "      <td>Serangoon</td>\n",
       "      <td>400000</td>\n",
       "      <td>70</td>\n",
       "      <td>2</td>\n",
       "      <td>2</td>\n",
       "    </tr>\n",
       "    <tr>\n",
       "      <th>3</th>\n",
       "      <td>Yishun</td>\n",
       "      <td>670000</td>\n",
       "      <td>112</td>\n",
       "      <td>3</td>\n",
       "      <td>2</td>\n",
       "    </tr>\n",
       "    <tr>\n",
       "      <th>4</th>\n",
       "      <td>Hougang</td>\n",
       "      <td>450000</td>\n",
       "      <td>67</td>\n",
       "      <td>2</td>\n",
       "      <td>2</td>\n",
       "    </tr>\n",
       "    <tr>\n",
       "      <th>...</th>\n",
       "      <td>...</td>\n",
       "      <td>...</td>\n",
       "      <td>...</td>\n",
       "      <td>...</td>\n",
       "      <td>...</td>\n",
       "    </tr>\n",
       "    <tr>\n",
       "      <th>2230</th>\n",
       "      <td>Punggol</td>\n",
       "      <td>368000</td>\n",
       "      <td>37</td>\n",
       "      <td>1</td>\n",
       "      <td>1</td>\n",
       "    </tr>\n",
       "    <tr>\n",
       "      <th>2231</th>\n",
       "      <td>Tampines</td>\n",
       "      <td>468000</td>\n",
       "      <td>74</td>\n",
       "      <td>2</td>\n",
       "      <td>2</td>\n",
       "    </tr>\n",
       "    <tr>\n",
       "      <th>2232</th>\n",
       "      <td>Tampines</td>\n",
       "      <td>490000</td>\n",
       "      <td>84</td>\n",
       "      <td>3</td>\n",
       "      <td>2</td>\n",
       "    </tr>\n",
       "    <tr>\n",
       "      <th>2233</th>\n",
       "      <td>Punggol</td>\n",
       "      <td>728000</td>\n",
       "      <td>110</td>\n",
       "      <td>3</td>\n",
       "      <td>2</td>\n",
       "    </tr>\n",
       "    <tr>\n",
       "      <th>2234</th>\n",
       "      <td>Bukit Batok</td>\n",
       "      <td>388000</td>\n",
       "      <td>73</td>\n",
       "      <td>2</td>\n",
       "      <td>2</td>\n",
       "    </tr>\n",
       "  </tbody>\n",
       "</table>\n",
       "<p>2235 rows × 5 columns</p>\n",
       "</div>"
      ],
      "text/plain": [
       "             town   price  size  bedrooms  bathrooms\n",
       "0       Woodlands  488000   101         3          2\n",
       "1      Queenstown  468000    65         2          2\n",
       "2       Serangoon  400000    70         2          2\n",
       "3          Yishun  670000   112         3          2\n",
       "4         Hougang  450000    67         2          2\n",
       "...           ...     ...   ...       ...        ...\n",
       "2230      Punggol  368000    37         1          1\n",
       "2231     Tampines  468000    74         2          2\n",
       "2232     Tampines  490000    84         3          2\n",
       "2233      Punggol  728000   110         3          2\n",
       "2234  Bukit Batok  388000    73         2          2\n",
       "\n",
       "[2235 rows x 5 columns]"
      ]
     },
     "execution_count": 60,
     "metadata": {},
     "output_type": "execute_result"
    }
   ],
   "source": [
    "df"
   ]
  }
 ],
 "metadata": {
  "kernelspec": {
   "display_name": "Python 3.10.5 64-bit",
   "language": "python",
   "name": "python3"
  },
  "language_info": {
   "codemirror_mode": {
    "name": "ipython",
    "version": 3
   },
   "file_extension": ".py",
   "mimetype": "text/x-python",
   "name": "python",
   "nbconvert_exporter": "python",
   "pygments_lexer": "ipython3",
   "version": "3.10.5"
  },
  "orig_nbformat": 4,
  "vscode": {
   "interpreter": {
    "hash": "aee8b7b246df8f9039afb4144a1f6fd8d2ca17a180786b69acc140d282b71a49"
   }
  }
 },
 "nbformat": 4,
 "nbformat_minor": 2
}
